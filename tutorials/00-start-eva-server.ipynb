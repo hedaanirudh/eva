{
 "cells": [
  {
   "cell_type": "markdown",
   "metadata": {},
   "source": [
    "# Start EVA Server"
   ]
  },
  {
   "cell_type": "markdown",
   "metadata": {},
   "source": [
    "<table align=\"left\">\n",
    "  <td>\n",
    "    <a target=\"_blank\" href=\"https://colab.research.google.com/github/georgia-tech-db/eva/blob/master/tutorials/00-start-eva-server.ipynb\"><img src=\"https://www.tensorflow.org/images/colab_logo_32px.png\" /> Run on Google Colab</a>\n",
    "  </td>\n",
    "  <td>\n",
    "    <a target=\"_blank\" href=\"https://github.com/georgia-tech-db/eva/blob/master/tutorials/00-start-eva-server.ipynb\"><img src=\"https://www.tensorflow.org/images/GitHub-Mark-32px.png\" /> View source on GitHub</a>\n",
    "  </td>\n",
    "  <td>\n",
    "    <a target=\"_blank\" href=\"https://raw.githubusercontent.com/georgia-tech-db/eva/master/tutorials/00-start-eva-server.ipynb\"><img src=\"https://www.tensorflow.org/images/download_logo_32px.png\" /> Download notebook</a>\n",
    "  </td>\n",
    "</table>"
   ]
  },
  {
   "cell_type": "markdown",
   "metadata": {},
   "source": [
    "### Launch EVA server\n",
    "\n",
    "We use this notebook for launching the EVA server."
   ]
  },
  {
   "cell_type": "code",
   "execution_count": 1,
   "metadata": {
    "execution": {
     "iopub.execute_input": "2023-02-08T17:39:37.509932Z",
     "iopub.status.busy": "2023-02-08T17:39:37.509385Z",
     "iopub.status.idle": "2023-02-08T17:39:47.593152Z",
     "shell.execute_reply": "2023-02-08T17:39:47.591535Z"
    }
   },
   "outputs": [
    {
     "name": "stdout",
     "output_type": "stream",
     "text": [
      "nohup eva_server > eva.log 2>&1 &\n"
     ]
    }
   ],
   "source": [
    "## Install EVA package if needed\n",
    "# %pip install \"evadb[dev]\" --quiet\n",
    "\n",
    "import os\n",
    "import time\n",
    "from psutil import process_iter\n",
    "from signal import SIGTERM\n",
    "import re\n",
    "import itertools\n",
    "\n",
    "def shell(command):\n",
    "    print(command)\n",
    "    os.system(command)\n",
    "\n",
    "def stop_eva_server():\n",
    "    for proc in process_iter():\n",
    "        if proc.name() == \"eva_server\":\n",
    "            proc.send_signal(SIGTERM)\n",
    "\n",
    "def launch_eva_server():\n",
    "    # Stop EVA server if it is running\n",
    "    stop_eva_server()\n",
    "\n",
    "    os.environ['GPU_DEVICES'] = '0'\n",
    "\n",
    "    # Start EVA server\n",
    "    shell(\"nohup eva_server >> eva.log 2>&1 &\")\n",
    "\n",
    "    last_few_lines_count = 3\n",
    "    try:\n",
    "        with open('eva.log', 'r') as f:\n",
    "            for lines in itertools.zip_longest(*[f]*last_few_lines_count):\n",
    "                print(lines)\n",
    "    except FileNotFoundError:\n",
    "        pass\n",
    "\n",
    "    # Wait for server to start\n",
    "    time.sleep(10)\n",
    "\n",
    "def connect_to_server():\n",
    "    from eva.server.db_api import connect\n",
    "    %pip install nest_asyncio --quiet\n",
    "    import nest_asyncio\n",
    "    nest_asyncio.apply()\n",
    "\n",
    "    # Connect client with server\n",
    "    connection = connect(host = '127.0.0.1', port = 5432) \n",
    "    cursor = connection.cursor()\n",
    "\n",
    "    return cursor\n",
    "\n",
    "# Launch server\n",
    "launch_eva_server()"
   ]
  }
 ],
 "metadata": {
  "kernelspec": {
   "display_name": "Python 3.8.10 ('test_evadb': venv)",
   "language": "python",
   "name": "python3"
  },
  "language_info": {
   "codemirror_mode": {
    "name": "ipython",
    "version": 3
   },
   "file_extension": ".py",
   "mimetype": "text/x-python",
   "name": "python",
   "nbconvert_exporter": "python",
   "pygments_lexer": "ipython3",
   "version": "3.10.8"
  },
  "vscode": {
   "interpreter": {
    "hash": "292337e8e9747092192f4a1ef18b0951099c869b0f06eb7241460e1768f24923"
   }
  }
 },
 "nbformat": 4,
 "nbformat_minor": 2
}
